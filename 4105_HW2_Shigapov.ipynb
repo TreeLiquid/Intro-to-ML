{
  "cells": [
    {
      "cell_type": "markdown",
      "metadata": {
        "id": "view-in-github",
        "colab_type": "text"
      },
      "source": [
        "<a href=\"https://colab.research.google.com/github/TreeLiquid/Intro-to-ML/blob/main/4105_HW2_Shigapov.ipynb\" target=\"_parent\"><img src=\"https://colab.research.google.com/assets/colab-badge.svg\" alt=\"Open In Colab\"/></a>"
      ]
    },
    {
      "cell_type": "code",
      "execution_count": null,
      "metadata": {
        "id": "dp9mhzq_1FbP"
      },
      "outputs": [],
      "source": [
        "import pandas as pd\n",
        "import numpy as np\n",
        "import matplotlib.pyplot as plt"
      ]
    },
    {
      "cell_type": "markdown",
      "source": [
        "Pre-Processing"
      ],
      "metadata": {
        "id": "er189TEZh2e2"
      }
    },
    {
      "cell_type": "code",
      "execution_count": null,
      "metadata": {
        "id": "aOP0OGaVy9hc"
      },
      "outputs": [],
      "source": [
        "from google.colab import drive\n",
        "drive.mount('/content/drive')\n",
        "\n",
        "#Obtain file data\n",
        "filepath = '/content/drive/My Drive/Fall-2023/Intro-to-ML/Datasets/Housing.csv'\n",
        "HD = pd.DataFrame(pd.read_csv(filepath))\n",
        "HD.head()"
      ]
    },
    {
      "cell_type": "code",
      "source": [
        "HD.shape"
      ],
      "metadata": {
        "id": "yev9cH9XXuML"
      },
      "execution_count": null,
      "outputs": []
    },
    {
      "cell_type": "code",
      "source": [
        "#Null Checking\n",
        "HD.isnull().sum()*100/HD.shape[0]"
      ],
      "metadata": {
        "id": "Yie9xuWgZAQl"
      },
      "execution_count": null,
      "outputs": []
    },
    {
      "cell_type": "code",
      "source": [
        "#Converting True/False to 1/0\n",
        "varlist = ['mainroad', 'guestroom', 'basement', 'hotwaterheating', 'airconditioning', 'prefarea']\n",
        "\n",
        "#Map Func (I am not converting furnishing status as the HW doesn't require me to)\n",
        "def binary_map(x):\n",
        "  return x.map({'yes': 1, 'no': 0})\n",
        "\n",
        "HD[varlist] = HD[varlist].apply(binary_map)\n",
        "HD.head()"
      ],
      "metadata": {
        "id": "WGjALIHhX-fD"
      },
      "execution_count": null,
      "outputs": []
    },
    {
      "cell_type": "markdown",
      "source": [
        "Problem 1A"
      ],
      "metadata": {
        "id": "RWjpgdV03xJN"
      }
    },
    {
      "cell_type": "code",
      "source": [
        "#Training & Test Set Setup + Feature scaling\n",
        "from sklearn.model_selection import train_test_split\n",
        "from sklearn.preprocessing import MinMaxScaler\n",
        "\n",
        "np.random.seed(0)\n",
        "HD_train, HD_test = train_test_split(HD, train_size = 0.8, test_size = 0.2, random_state = 100)\n",
        "\n",
        "scaler = MinMaxScaler()\n",
        "num_vars = ['area', 'bedrooms', 'bathrooms', 'stories', 'parking', 'price']\n",
        "HD_train[num_vars] = scaler.fit_transform(HD_train[num_vars])\n",
        "HD_train.head()\n"
      ],
      "metadata": {
        "id": "qCIvUbCUZ79M"
      },
      "execution_count": null,
      "outputs": []
    },
    {
      "cell_type": "code",
      "source": [
        "#Training Set\n",
        "y_train = HD_train.pop('price')\n",
        "x_train = HD_train\n",
        "x_train.head()"
      ],
      "metadata": {
        "id": "pG8meDK8fSBE"
      },
      "execution_count": null,
      "outputs": []
    },
    {
      "cell_type": "code",
      "source": [
        "#Validation Sets\n",
        "y_val = HD_test.pop('price')\n",
        "x_val = HD_test\n",
        "x_val.head()"
      ],
      "metadata": {
        "id": "6uuqIxEcx8Ad"
      },
      "execution_count": null,
      "outputs": []
    },
    {
      "cell_type": "code",
      "execution_count": 45,
      "metadata": {
        "id": "gKzrkICV2pcd"
      },
      "outputs": [],
      "source": [
        "#Functions (Adjusted function names to fit HW requirements better :))\n",
        "def compute_price(x, y, theta):\n",
        " \"\"\"\n",
        " Compute price for linear regression.\n",
        " Input Parameters\n",
        " ----------------\n",
        " X : 2D array where each row represent the training example and each column represent\n",
        " m= number of training examples\n",
        " n= number of features (including X_0 column of ones)\n",
        " y : 1D array of labels/target value for each traing example. dimension(1 x m)\n",
        " theta : 1D array of fitting parameters or weights. Dimension (1 x n)\n",
        "\n",
        " Output Parameters\n",
        " -----------------\n",
        " J : Scalar value.\n",
        " \"\"\"\n",
        " predictions = x.dot(theta)\n",
        " errors = np.subtract(predictions, y)\n",
        " sqrErrors = np.square(errors)\n",
        " J = 1 / (2 * m) * np.sum(sqrErrors)\n",
        " return J\n",
        "\n",
        "def gradient_descent(x, y, theta, alpha, iterations):\n",
        "    \"\"\"\n",
        "    Compute price for linear regression.\n",
        "\n",
        "    Input Parameters\n",
        "    ----------------\n",
        "    X : 2D array where each row represent the training example and each column represent\n",
        "    m= number of training examples\n",
        "    n= number of features (including X_0 column of ones)\n",
        "    y : 1D array of labels/target value for each traing example. dimension(m x 1)\n",
        "    theta : 1D array of fitting parameters or weights. Dimension (1 x n)\n",
        "    alpha : Learning rate. Scalar value\n",
        "    iterations: No of iterations. Scalar value.\n",
        "\n",
        "    Output Parameters\n",
        "    -----------------\n",
        "    theta : Final Value. 1D array of fitting parameters or weights. Dimension (1 x n)\n",
        "    price_estimate: Conatins value of cost for each iteration. 1D array. Dimansion(m x 1)\n",
        "    \"\"\"\n",
        "    price_estimate = np.zeros(iterations)\n",
        "    for i in range(iterations):\n",
        "        predictions = x.dot(theta)\n",
        "        errors = np.subtract(predictions, y)\n",
        "        sum_delta = (alpha / m) * x.transpose().dot(errors);\n",
        "        theta = theta - sum_delta;\n",
        "        price_estimate[i] = compute_price(x, y, theta)\n",
        "    return theta, price_estimate"
      ]
    },
    {
      "cell_type": "markdown",
      "source": [
        "Problem 1A"
      ],
      "metadata": {
        "id": "DRwDzvmehoU1"
      }
    },
    {
      "cell_type": "code",
      "source": [
        "x_train.shape"
      ],
      "metadata": {
        "colab": {
          "base_uri": "https://localhost:8080/"
        },
        "id": "YXXQZbY2syNL",
        "outputId": "9c6972c2-dfc4-4d13-8a6c-7d778449997b"
      },
      "execution_count": 44,
      "outputs": [
        {
          "output_type": "execute_result",
          "data": {
            "text/plain": [
              "(436, 12)"
            ]
          },
          "metadata": {},
          "execution_count": 44
        }
      ]
    },
    {
      "cell_type": "code",
      "source": [
        "#Parameters\n",
        "m = len(y_train)\n",
        "n = len(x_train)\n",
        "print('M =', m)\n",
        "print('N =', n)\n",
        "theta = np.zeros((13,m), dtype=np.float64)\n",
        "#print(theta)\n",
        "\n",
        "x_0 = np.ones((m,1))\n",
        "#x_1 =\n",
        "\n",
        "\n",
        "#Graph\n",
        "X_train1 = x_train['area'] + x_train['bedrooms'] + x_train['bathrooms'] + x_train['stories'] + x_train['parking']\n",
        "\n",
        "plt.scatter(X_train1, y_train, color='red',marker= '+')\n",
        "#plt.scatter(x_train['bedrooms'], y_train, color='blue',marker= '+')\n",
        "#plt.scatter(, y_train, color='green',marker= '+')\n",
        "#plt.scatter(, y_train, color='yellow',marker= '+')\n",
        "#plt.scatter(x_train['parking'], y_train, color='black',marker= '+')\n",
        "plt.grid()\n",
        "plt.xlabel('X')\n",
        "plt.ylabel('Y')\n",
        "plt.title('Scatter plot of training data')"
      ],
      "metadata": {
        "colab": {
          "base_uri": "https://localhost:8080/",
          "height": 526
        },
        "id": "SZOQvg6Ohn3U",
        "outputId": "fe812f1a-526f-4acc-bd57-cbffb108c340"
      },
      "execution_count": 88,
      "outputs": [
        {
          "output_type": "stream",
          "name": "stdout",
          "text": [
            "M = 436\n",
            "N = 436\n"
          ]
        },
        {
          "output_type": "execute_result",
          "data": {
            "text/plain": [
              "Text(0.5, 1.0, 'Scatter plot of training data')"
            ]
          },
          "metadata": {},
          "execution_count": 88
        },
        {
          "output_type": "display_data",
          "data": {
            "text/plain": [
              "<Figure size 640x480 with 1 Axes>"
            ],
            "image/png": "[encoded data removed]"
          },
          "metadata": {}
        }
      ]
    },
    {
      "cell_type": "code",
      "source": [
        "#Prices for Theta 1 & 2\n",
        "#price = compute_price(X_train1, y_train, theta)"
      ],
      "metadata": {
        "id": "SrU0AtuQUhOc"
      },
      "execution_count": null,
      "outputs": []
    },
    {
      "cell_type": "code",
      "source": [
        "#Gradient Descent\n",
        "itr = 150;\n",
        "a = 0.01;\n",
        "\n",
        "#theta, price_estimate = gradient_descent(X_train1, y_train, theta, a, itr)\n",
        "#print('Final value of Theta =', theta)\n",
        "#print('Price estimate  =', price_estimate)\n"
      ],
      "metadata": {
        "id": "1xLMZbAZuY8y"
      },
      "execution_count": 81,
      "outputs": []
    },
    {
      "cell_type": "code",
      "source": [
        "#Training and Validation Losses for 1A\n",
        "x_train_1A = np.c_[np.ones((len(x_train), 1)), x_train]\n",
        "x_val_1A = np.c_[np.ones((len(x_val), 1)), x_val]\n",
        "\n",
        "train_losses_1A = []\n",
        "val_losses_1A = []\n",
        "\n",
        "for iteration in range(itr):\n",
        "    gradients = 2/m * x_train_1A.T.dot(x_train_1A.dot(theta) - y_train)\n",
        "    theta -= a * gradients\n",
        "\n",
        "    train_loss = (1/m) * np.sum(np.square(x_train_1A.dot(theta) - y_train))\n",
        "    val_loss = (1/len(x_val)) * np.sum(np.square(x_val.dot(theta) - y_val))\n",
        "\n",
        "    train_losses_1A.append(train_loss)\n",
        "    val_losses_1A.append(val_loss)"
      ],
      "metadata": {
        "colab": {
          "base_uri": "https://localhost:8080/",
          "height": 253
        },
        "id": "ls9sBPqewQhz",
        "outputId": "ad023548-3ca1-4060-a830-45b0c6c0746d"
      },
      "execution_count": 89,
      "outputs": [
        {
          "output_type": "error",
          "ename": "TypeError",
          "evalue": "ignored",
          "traceback": [
            "\u001b[0;31m---------------------------------------------------------------------------\u001b[0m",
            "\u001b[0;31mTypeError\u001b[0m                                 Traceback (most recent call last)",
            "\u001b[0;32m<ipython-input-89-8d325099e7b8>\u001b[0m in \u001b[0;36m<cell line: 8>\u001b[0;34m()\u001b[0m\n\u001b[1;32m      7\u001b[0m \u001b[0;34m\u001b[0m\u001b[0m\n\u001b[1;32m      8\u001b[0m \u001b[0;32mfor\u001b[0m \u001b[0miteration\u001b[0m \u001b[0;32min\u001b[0m \u001b[0mrange\u001b[0m\u001b[0;34m(\u001b[0m\u001b[0mitr\u001b[0m\u001b[0;34m)\u001b[0m\u001b[0;34m:\u001b[0m\u001b[0;34m\u001b[0m\u001b[0;34m\u001b[0m\u001b[0m\n\u001b[0;32m----> 9\u001b[0;31m     \u001b[0mgradients\u001b[0m \u001b[0;34m=\u001b[0m \u001b[0;36m2\u001b[0m\u001b[0;34m/\u001b[0m\u001b[0mm\u001b[0m \u001b[0;34m*\u001b[0m \u001b[0mx_train_1A\u001b[0m\u001b[0;34m.\u001b[0m\u001b[0mT\u001b[0m\u001b[0;34m.\u001b[0m\u001b[0mdot\u001b[0m\u001b[0;34m(\u001b[0m\u001b[0mx_train_1A\u001b[0m\u001b[0;34m.\u001b[0m\u001b[0mdot\u001b[0m\u001b[0;34m(\u001b[0m\u001b[0mtheta\u001b[0m\u001b[0;34m)\u001b[0m \u001b[0;34m-\u001b[0m \u001b[0my_train\u001b[0m\u001b[0;34m)\u001b[0m\u001b[0;34m\u001b[0m\u001b[0;34m\u001b[0m\u001b[0m\n\u001b[0m\u001b[1;32m     10\u001b[0m     \u001b[0mtheta\u001b[0m \u001b[0;34m-=\u001b[0m \u001b[0ma\u001b[0m \u001b[0;34m*\u001b[0m \u001b[0mgradients\u001b[0m\u001b[0;34m\u001b[0m\u001b[0;34m\u001b[0m\u001b[0m\n\u001b[1;32m     11\u001b[0m \u001b[0;34m\u001b[0m\u001b[0m\n",
            "\u001b[0;31mTypeError\u001b[0m: can't multiply sequence by non-int of type 'float'"
          ]
        }
      ]
    }
  ],
  "metadata": {
    "colab": {
      "provenance": [],
      "authorship_tag": "ABX9TyNvNrFhgdVWFPIAFNrdgDgm",
      "include_colab_link": true
    },
    "kernelspec": {
      "display_name": "Python 3",
      "name": "python3"
    },
    "language_info": {
      "name": "python"
    }
  },
  "nbformat": 4,
  "nbformat_minor": 0
}