{
  "cells": [
    {
      "cell_type": "markdown",
      "metadata": {
        "id": "view-in-github",
        "colab_type": "text"
      },
      "source": [
        "<a href=\"https://colab.research.google.com/github/TreeLiquid/Intro-to-ML/blob/main/4105_HW2_Shigapov.ipynb\" target=\"_parent\"><img src=\"https://colab.research.google.com/assets/colab-badge.svg\" alt=\"Open In Colab\"/></a>"
      ]
    },
    {
      "cell_type": "code",
      "execution_count": 6,
      "metadata": {
        "id": "dp9mhzq_1FbP"
      },
      "outputs": [],
      "source": [
        "import pandas as pd\n",
        "import numpy as np\n",
        "import matplotlib.pyplot as plt\n",
        "from sklearn import preprocessing\n",
        "from sklearn.model_selection import train_test_split\n",
        "from sklearn.preprocessing import MinMaxScaler\n",
        "scaler = MinMaxScaler() #Normilization\n",
        "mScaler = preprocessing.StandardScaler() #Standardizer"
      ]
    },
    {
      "cell_type": "markdown",
      "source": [
        "Pre-Processing"
      ],
      "metadata": {
        "id": "er189TEZh2e2"
      }
    },
    {
      "cell_type": "code",
      "execution_count": null,
      "metadata": {
        "id": "aOP0OGaVy9hc"
      },
      "outputs": [],
      "source": [
        "from google.colab import drive\n",
        "drive.mount('/content/drive')\n",
        "\n",
        "#Obtain file data\n",
        "filepath = '/content/drive/My Drive/Fall-2023/Intro-to-ML/Datasets/Housing.csv'\n",
        "HD = pd.DataFrame(pd.read_csv(filepath))\n",
        "HD.head()"
      ]
    },
    {
      "cell_type": "code",
      "source": [
        "#Null Checking\n",
        "HD.isnull().sum()*100/HD.shape[0]"
      ],
      "metadata": {
        "id": "Yie9xuWgZAQl"
      },
      "execution_count": null,
      "outputs": []
    },
    {
      "cell_type": "code",
      "source": [
        "#Converting True/False to 1/0\n",
        "varlist = ['mainroad', 'guestroom', 'basement', 'hotwaterheating', 'airconditioning', 'prefarea']\n",
        "\n",
        "#Map Func (I am not converting furnishing status as the HW doesn't require me to)\n",
        "def binary_map(x):\n",
        "  return x.map({'yes': 1, 'no': 0})\n",
        "\n",
        "HD[varlist] = HD[varlist].apply(binary_map)\n",
        "HD.head()"
      ],
      "metadata": {
        "id": "WGjALIHhX-fD"
      },
      "execution_count": null,
      "outputs": []
    },
    {
      "cell_type": "markdown",
      "source": [
        "Problem 1A"
      ],
      "metadata": {
        "id": "RWjpgdV03xJN"
      }
    },
    {
      "cell_type": "code",
      "source": [
        "#Training & Test Set Setup + Feature scaling\n",
        "HD_train, HD_test = train_test_split(HD, train_size = 0.8, test_size = 0.2, random_state = 100)\n",
        "\n",
        "num_vars = ['area', 'bedrooms', 'bathrooms', 'stories', 'parking', 'price']\n",
        "HD_train = HD_train[num_vars]\n",
        "HD_test = HD_test[num_vars]\n",
        "HD_train.head()"
      ],
      "metadata": {
        "id": "qCIvUbCUZ79M",
        "colab": {
          "base_uri": "https://localhost:8080/",
          "height": 206
        },
        "outputId": "4ec8a4a0-e459-4983-cad2-056eb20dce66"
      },
      "execution_count": 15,
      "outputs": [
        {
          "output_type": "execute_result",
          "data": {
            "text/plain": [
              "     area  bedrooms  bathrooms  stories  parking    price\n",
              "22   8050         3          1        1        1  8645000\n",
              "41   6360         3          2        4        0  7840000\n",
              "91   6750         2          1        1        2  6419000\n",
              "118  6420         3          1        1        0  5950000\n",
              "472  3630         4          1        2        3  3010000"
            ],
            "text/html": [
              "\n",
              "  <div id=\"df-cd2a7eb7-6111-49c4-89f9-bd20d2711d2f\" class=\"colab-df-container\">\n",
              "    <div>\n",
              "<style scoped>\n",
              "    .dataframe tbody tr th:only-of-type {\n",
              "        vertical-align: middle;\n",
              "    }\n",
              "\n",
              "    .dataframe tbody tr th {\n",
              "        vertical-align: top;\n",
              "    }\n",
              "\n",
              "    .dataframe thead th {\n",
              "        text-align: right;\n",
              "    }\n",
              "</style>\n",
              "<table border=\"1\" class=\"dataframe\">\n",
              "  <thead>\n",
              "    <tr style=\"text-align: right;\">\n",
              "      <th></th>\n",
              "      <th>area</th>\n",
              "      <th>bedrooms</th>\n",
              "      <th>bathrooms</th>\n",
              "      <th>stories</th>\n",
              "      <th>parking</th>\n",
              "      <th>price</th>\n",
              "    </tr>\n",
              "  </thead>\n",
              "  <tbody>\n",
              "    <tr>\n",
              "      <th>22</th>\n",
              "      <td>8050</td>\n",
              "      <td>3</td>\n",
              "      <td>1</td>\n",
              "      <td>1</td>\n",
              "      <td>1</td>\n",
              "      <td>8645000</td>\n",
              "    </tr>\n",
              "    <tr>\n",
              "      <th>41</th>\n",
              "      <td>6360</td>\n",
              "      <td>3</td>\n",
              "      <td>2</td>\n",
              "      <td>4</td>\n",
              "      <td>0</td>\n",
              "      <td>7840000</td>\n",
              "    </tr>\n",
              "    <tr>\n",
              "      <th>91</th>\n",
              "      <td>6750</td>\n",
              "      <td>2</td>\n",
              "      <td>1</td>\n",
              "      <td>1</td>\n",
              "      <td>2</td>\n",
              "      <td>6419000</td>\n",
              "    </tr>\n",
              "    <tr>\n",
              "      <th>118</th>\n",
              "      <td>6420</td>\n",
              "      <td>3</td>\n",
              "      <td>1</td>\n",
              "      <td>1</td>\n",
              "      <td>0</td>\n",
              "      <td>5950000</td>\n",
              "    </tr>\n",
              "    <tr>\n",
              "      <th>472</th>\n",
              "      <td>3630</td>\n",
              "      <td>4</td>\n",
              "      <td>1</td>\n",
              "      <td>2</td>\n",
              "      <td>3</td>\n",
              "      <td>3010000</td>\n",
              "    </tr>\n",
              "  </tbody>\n",
              "</table>\n",
              "</div>\n",
              "    <div class=\"colab-df-buttons\">\n",
              "\n",
              "  <div class=\"colab-df-container\">\n",
              "    <button class=\"colab-df-convert\" onclick=\"convertToInteractive('df-cd2a7eb7-6111-49c4-89f9-bd20d2711d2f')\"\n",
              "            title=\"Convert this dataframe to an interactive table.\"\n",
              "            style=\"display:none;\">\n",
              "\n",
              "  <svg xmlns=\"http://www.w3.org/2000/svg\" height=\"24px\" viewBox=\"0 -960 960 960\">\n",
              "    <path d=\"M120-120v-720h720v720H120Zm60-500h600v-160H180v160Zm220 220h160v-160H400v160Zm0 220h160v-160H400v160ZM180-400h160v-160H180v160Zm440 0h160v-160H620v160ZM180-180h160v-160H180v160Zm440 0h160v-160H620v160Z\"/>\n",
              "  </svg>\n",
              "    </button>\n",
              "\n",
              "  <style>\n",
              "    .colab-df-container {\n",
              "      display:flex;\n",
              "      gap: 12px;\n",
              "    }\n",
              "\n",
              "    .colab-df-convert {\n",
              "      background-color: #E8F0FE;\n",
              "      border: none;\n",
              "      border-radius: 50%;\n",
              "      cursor: pointer;\n",
              "      display: none;\n",
              "      fill: #1967D2;\n",
              "      height: 32px;\n",
              "      padding: 0 0 0 0;\n",
              "      width: 32px;\n",
              "    }\n",
              "\n",
              "    .colab-df-convert:hover {\n",
              "      background-color: #E2EBFA;\n",
              "      box-shadow: 0px 1px 2px rgba(60, 64, 67, 0.3), 0px 1px 3px 1px rgba(60, 64, 67, 0.15);\n",
              "      fill: #174EA6;\n",
              "    }\n",
              "\n",
              "    .colab-df-buttons div {\n",
              "      margin-bottom: 4px;\n",
              "    }\n",
              "\n",
              "    [theme=dark] .colab-df-convert {\n",
              "      background-color: #3B4455;\n",
              "      fill: #D2E3FC;\n",
              "    }\n",
              "\n",
              "    [theme=dark] .colab-df-convert:hover {\n",
              "      background-color: #434B5C;\n",
              "      box-shadow: 0px 1px 3px 1px rgba(0, 0, 0, 0.15);\n",
              "      filter: drop-shadow(0px 1px 2px rgba(0, 0, 0, 0.3));\n",
              "      fill: #FFFFFF;\n",
              "    }\n",
              "  </style>\n",
              "\n",
              "    <script>\n",
              "      const buttonEl =\n",
              "        document.querySelector('#df-cd2a7eb7-6111-49c4-89f9-bd20d2711d2f button.colab-df-convert');\n",
              "      buttonEl.style.display =\n",
              "        google.colab.kernel.accessAllowed ? 'block' : 'none';\n",
              "\n",
              "      async function convertToInteractive(key) {\n",
              "        const element = document.querySelector('#df-cd2a7eb7-6111-49c4-89f9-bd20d2711d2f');\n",
              "        const dataTable =\n",
              "          await google.colab.kernel.invokeFunction('convertToInteractive',\n",
              "                                                    [key], {});\n",
              "        if (!dataTable) return;\n",
              "\n",
              "        const docLinkHtml = 'Like what you see? Visit the ' +\n",
              "          '<a target=\"_blank\" href=https://colab.research.google.com/notebooks/data_table.ipynb>data table notebook</a>'\n",
              "          + ' to learn more about interactive tables.';\n",
              "        element.innerHTML = '';\n",
              "        dataTable['output_type'] = 'display_data';\n",
              "        await google.colab.output.renderOutput(dataTable, element);\n",
              "        const docLink = document.createElement('div');\n",
              "        docLink.innerHTML = docLinkHtml;\n",
              "        element.appendChild(docLink);\n",
              "      }\n",
              "    </script>\n",
              "  </div>\n",
              "\n",
              "\n",
              "<div id=\"df-ec667376-6458-42d5-a439-69a8fca3b326\">\n",
              "  <button class=\"colab-df-quickchart\" onclick=\"quickchart('df-ec667376-6458-42d5-a439-69a8fca3b326')\"\n",
              "            title=\"Suggest charts.\"\n",
              "            style=\"display:none;\">\n",
              "\n",
              "<svg xmlns=\"http://www.w3.org/2000/svg\" height=\"24px\"viewBox=\"0 0 24 24\"\n",
              "     width=\"24px\">\n",
              "    <g>\n",
              "        <path d=\"M19 3H5c-1.1 0-2 .9-2 2v14c0 1.1.9 2 2 2h14c1.1 0 2-.9 2-2V5c0-1.1-.9-2-2-2zM9 17H7v-7h2v7zm4 0h-2V7h2v10zm4 0h-2v-4h2v4z\"/>\n",
              "    </g>\n",
              "</svg>\n",
              "  </button>\n",
              "\n",
              "<style>\n",
              "  .colab-df-quickchart {\n",
              "      --bg-color: #E8F0FE;\n",
              "      --fill-color: #1967D2;\n",
              "      --hover-bg-color: #E2EBFA;\n",
              "      --hover-fill-color: #174EA6;\n",
              "      --disabled-fill-color: #AAA;\n",
              "      --disabled-bg-color: #DDD;\n",
              "  }\n",
              "\n",
              "  [theme=dark] .colab-df-quickchart {\n",
              "      --bg-color: #3B4455;\n",
              "      --fill-color: #D2E3FC;\n",
              "      --hover-bg-color: #434B5C;\n",
              "      --hover-fill-color: #FFFFFF;\n",
              "      --disabled-bg-color: #3B4455;\n",
              "      --disabled-fill-color: #666;\n",
              "  }\n",
              "\n",
              "  .colab-df-quickchart {\n",
              "    background-color: var(--bg-color);\n",
              "    border: none;\n",
              "    border-radius: 50%;\n",
              "    cursor: pointer;\n",
              "    display: none;\n",
              "    fill: var(--fill-color);\n",
              "    height: 32px;\n",
              "    padding: 0;\n",
              "    width: 32px;\n",
              "  }\n",
              "\n",
              "  .colab-df-quickchart:hover {\n",
              "    background-color: var(--hover-bg-color);\n",
              "    box-shadow: 0 1px 2px rgba(60, 64, 67, 0.3), 0 1px 3px 1px rgba(60, 64, 67, 0.15);\n",
              "    fill: var(--button-hover-fill-color);\n",
              "  }\n",
              "\n",
              "  .colab-df-quickchart-complete:disabled,\n",
              "  .colab-df-quickchart-complete:disabled:hover {\n",
              "    background-color: var(--disabled-bg-color);\n",
              "    fill: var(--disabled-fill-color);\n",
              "    box-shadow: none;\n",
              "  }\n",
              "\n",
              "  .colab-df-spinner {\n",
              "    border: 2px solid var(--fill-color);\n",
              "    border-color: transparent;\n",
              "    border-bottom-color: var(--fill-color);\n",
              "    animation:\n",
              "      spin 1s steps(1) infinite;\n",
              "  }\n",
              "\n",
              "  @keyframes spin {\n",
              "    0% {\n",
              "      border-color: transparent;\n",
              "      border-bottom-color: var(--fill-color);\n",
              "      border-left-color: var(--fill-color);\n",
              "    }\n",
              "    20% {\n",
              "      border-color: transparent;\n",
              "      border-left-color: var(--fill-color);\n",
              "      border-top-color: var(--fill-color);\n",
              "    }\n",
              "    30% {\n",
              "      border-color: transparent;\n",
              "      border-left-color: var(--fill-color);\n",
              "      border-top-color: var(--fill-color);\n",
              "      border-right-color: var(--fill-color);\n",
              "    }\n",
              "    40% {\n",
              "      border-color: transparent;\n",
              "      border-right-color: var(--fill-color);\n",
              "      border-top-color: var(--fill-color);\n",
              "    }\n",
              "    60% {\n",
              "      border-color: transparent;\n",
              "      border-right-color: var(--fill-color);\n",
              "    }\n",
              "    80% {\n",
              "      border-color: transparent;\n",
              "      border-right-color: var(--fill-color);\n",
              "      border-bottom-color: var(--fill-color);\n",
              "    }\n",
              "    90% {\n",
              "      border-color: transparent;\n",
              "      border-bottom-color: var(--fill-color);\n",
              "    }\n",
              "  }\n",
              "</style>\n",
              "\n",
              "  <script>\n",
              "    async function quickchart(key) {\n",
              "      const quickchartButtonEl =\n",
              "        document.querySelector('#' + key + ' button');\n",
              "      quickchartButtonEl.disabled = true;  // To prevent multiple clicks.\n",
              "      quickchartButtonEl.classList.add('colab-df-spinner');\n",
              "      try {\n",
              "        const charts = await google.colab.kernel.invokeFunction(\n",
              "            'suggestCharts', [key], {});\n",
              "      } catch (error) {\n",
              "        console.error('Error during call to suggestCharts:', error);\n",
              "      }\n",
              "      quickchartButtonEl.classList.remove('colab-df-spinner');\n",
              "      quickchartButtonEl.classList.add('colab-df-quickchart-complete');\n",
              "    }\n",
              "    (() => {\n",
              "      let quickchartButtonEl =\n",
              "        document.querySelector('#df-ec667376-6458-42d5-a439-69a8fca3b326 button');\n",
              "      quickchartButtonEl.style.display =\n",
              "        google.colab.kernel.accessAllowed ? 'block' : 'none';\n",
              "    })();\n",
              "  </script>\n",
              "</div>\n",
              "    </div>\n",
              "  </div>\n"
            ]
          },
          "metadata": {},
          "execution_count": 15
        }
      ]
    },
    {
      "cell_type": "code",
      "source": [
        "#Training Set\n",
        "y_train = HD_train.pop('price')\n",
        "x_train = HD_train\n",
        "#Validation Sets\n",
        "y_val = HD_test.pop('price')\n",
        "x_val = HD_test\n",
        "#x_val.head()"
      ],
      "metadata": {
        "id": "pG8meDK8fSBE"
      },
      "execution_count": 16,
      "outputs": []
    },
    {
      "cell_type": "code",
      "execution_count": 1,
      "metadata": {
        "id": "gKzrkICV2pcd"
      },
      "outputs": [],
      "source": [
        "# @title\n",
        "#Functions (Adjusted function names to fit HW requirements better :))\n",
        "def compute_price(x, y, theta):\n",
        " \"\"\"\n",
        " Compute price for linear regression.\n",
        " Input Parameters\n",
        " ----------------\n",
        " X : 2D array where each row represent the training example and each column represent\n",
        " m= number of training examples\n",
        " n= number of features (including X_0 column of ones)\n",
        " y : 1D array of labels/target value for each traing example. dimension(1 x m)\n",
        " theta : 1D array of fitting parameters or weights. Dimension (1 x n)\n",
        "\n",
        " Output Parameters\n",
        " -----------------\n",
        " J : Scalar value.\n",
        " \"\"\"\n",
        " predictions = x.dot(theta)\n",
        " errors = np.subtract(predictions, y)\n",
        " sqrErrors = np.square(errors)\n",
        " J = 1 / (2 * m) * np.sum(sqrErrors)\n",
        " return J\n",
        "\n",
        "def gradient_descent(x, y, theta, alpha, iterations):\n",
        "    \"\"\"\n",
        "    Compute price for linear regression.\n",
        "\n",
        "    Input Parameters\n",
        "    ----------------\n",
        "    X : 2D array where each row represent the training example and each column represent\n",
        "    m= number of training examples\n",
        "    n= number of features (including X_0 column of ones)\n",
        "    y : 1D array of labels/target value for each traing example. dimension(m x 1)\n",
        "    theta : 1D array of fitting parameters or weights. Dimension (1 x n)\n",
        "    alpha : Learning rate. Scalar value\n",
        "    iterations: No of iterations. Scalar value.\n",
        "\n",
        "    Output Parameters\n",
        "    -----------------\n",
        "    theta : Final Value. 1D array of fitting parameters or weights. Dimension (1 x n)\n",
        "    price_estimate: Conatins value of cost for each iteration. 1D array. Dimansion(m x 1)\n",
        "    \"\"\"\n",
        "    price_estimate = np.zeros(iterations)\n",
        "    for i in range(iterations):\n",
        "        predictions = x.dot(theta)\n",
        "        errors = np.subtract(predictions, y)\n",
        "        sum_delta = (alpha / m) * x.transpose().dot(errors);\n",
        "        theta = theta - sum_delta;\n",
        "        price_estimate[i] = compute_price(x, y, theta)\n",
        "    return theta, price_estimate"
      ]
    },
    {
      "cell_type": "code",
      "source": [
        "#Parameters\n",
        "m = len(y_train)\n",
        "theta = np.zeros((13,m), dtype=np.int8)\n",
        "print(theta)"
      ],
      "metadata": {
        "id": "SZOQvg6Ohn3U"
      },
      "execution_count": null,
      "outputs": []
    },
    {
      "cell_type": "code",
      "source": [
        "#Gradient Descent\n",
        "itr = 150;\n",
        "a = 0.01;\n",
        "\n",
        "#theta, price_estimate = gradient_descent(X_train1, y_train, theta, a, itr)\n",
        "#print('Final value of Theta =', theta)\n",
        "#print('Price estimate  =', price_estimate)\n"
      ],
      "metadata": {
        "id": "1xLMZbAZuY8y"
      },
      "execution_count": null,
      "outputs": []
    },
    {
      "cell_type": "code",
      "source": [
        "#Training and Validation Losses for 1A\n",
        "x_train_1A = np.c_[np.ones((len(x_train), 1)), x_train]\n",
        "x_val_1A = np.c_[np.ones((len(x_val), 1)), x_val]\n",
        "\n",
        "train_losses_1A = []\n",
        "val_losses_1A = []\n",
        "\n",
        "for iteration in range(itr):\n",
        "    gradients = 2/m * x_train_1A.T.dot(x_train_1A.dot(theta) - y_train)\n",
        "    theta -= a * gradients\n",
        "\n",
        "    train_loss = (1/m) * np.sum(np.square(x_train_1A.dot(theta) - y_train))\n",
        "    val_loss = (1/len(x_val)) * np.sum(np.square(x_val.dot(theta) - y_val))\n",
        "\n",
        "    train_losses_1A.append(train_loss)\n",
        "    val_losses_1A.append(val_loss)"
      ],
      "metadata": {
        "id": "ls9sBPqewQhz"
      },
      "execution_count": null,
      "outputs": []
    },
    {
      "cell_type": "code",
      "source": [
        "plt.plot(train_losses_1A, label=\"Training Loss\")\n",
        "plt.plot(val_losses_1A, label=\"Validation Loss\")\n",
        "plt.xlabel(\"Iteration\")\n",
        "plt.ylabel(\"Mean Squared Error\")\n",
        "plt.legend()\n",
        "plt.title(\"Training and Validation Loss Over Iterations (For 1A)\")\n",
        "plt.show()"
      ],
      "metadata": {
        "id": "q3XFudfjBlBv"
      },
      "execution_count": null,
      "outputs": []
    },
    {
      "cell_type": "markdown",
      "source": [
        "Problem 1b"
      ],
      "metadata": {
        "id": "ExEqip-CD0cF"
      }
    },
    {
      "cell_type": "code",
      "source": [
        "#Organization\n",
        "HD_train_1b, HD_test_1b = train_test_split(HD, train_size = 0.8, test_size = 0.2, random_state = 100)\n",
        "\n",
        "#mainroad, guestroom, basement, hotwaterheating, airconditioning, prefarea\n",
        "num_vars = ['area', 'bedrooms', 'bathrooms', 'stories', 'price','mainroad', 'guestroom', 'basement', 'hotwaterheating', 'airconditioning', 'parking', 'prefarea']\n",
        "HD_train_1b[num_vars] = scaler.fit_transform(HD_train_1b[num_vars])\n",
        "HD_train_1b = HD_train_1b.drop(columns = ['furnishingstatus'])\n",
        "HD_test_1b = HD_test_1b.drop(columns = ['furnishingstatus'])\n",
        "HD_train_1b.head()"
      ],
      "metadata": {
        "id": "jMCeLfzRD3Cw"
      },
      "execution_count": null,
      "outputs": []
    },
    {
      "cell_type": "code",
      "source": [
        "#Training Set\n",
        "y_train_1b = HD_train_1b.pop('price')\n",
        "x_train_1b = HD_train_1b\n",
        "#x_train_1b.head()\n",
        "print(x_train_1b.shape)\n",
        "print(y_train_1b.shape)\n",
        "\n",
        "#Validation Sets\n",
        "y_val_1b = HD_test_1b.pop('price')\n",
        "x_val_1b = HD_test_1b\n",
        "print(x_val_1b.shape)\n",
        "print(y_val_1b.shape)\n",
        "x_val_1b.head()"
      ],
      "metadata": {
        "id": "MY0Rip9qFmzt"
      },
      "execution_count": null,
      "outputs": []
    },
    {
      "cell_type": "code",
      "source": [
        "#Training and Validation Losses for 1B\n",
        "m = len(x_train_1b)\n",
        "itr_1B = 150\n",
        "a_1B = 0.01\n",
        "theta_1B = np.zeros((12,len(x_train_1b)))\n",
        "\n",
        "x_train_1B = np.c_[np.ones((len(x_train_1b), 1)), x_train_1b]\n",
        "x_val_1B = np.c_[np.ones((len(x_val_1b), 1)), x_val_1b]\n",
        "\n",
        "train_losses_1B = []\n",
        "val_losses_1B = []\n",
        "\n",
        "for iteration in range(itr_1B):\n",
        "    gradients_1B = 2/m * x_train_1B.T.dot(x_train_1B.dot(theta_1B) - y_train_1b)\n",
        "    theta -= a_1B * gradients_1B\n",
        "\n",
        "    train_loss_1b = (1/m) * np.sum(np.square(x_train_1b.dot(theta_1B) - y_train_1b))\n",
        "    val_loss_1b = (1/len(x_val_1B)) * np.sum(np.square(x_val_1B.dot(theta) - y_val_1b))\n",
        "\n",
        "    train_losses_1B.append(train_loss_1b)\n",
        "    val_losses_1B.append(val_loss_1b)"
      ],
      "metadata": {
        "id": "SQzaxrGNSVPU"
      },
      "execution_count": null,
      "outputs": []
    },
    {
      "cell_type": "code",
      "source": [
        "plt.plot(train_losses_1B, label=\"Training Loss\")\n",
        "plt.plot(val_losses_1B, label=\"Validation Loss\")\n",
        "plt.xlabel(\"Iteration\")\n",
        "plt.ylabel(\"Mean Squared Error\")\n",
        "plt.legend()\n",
        "plt.title(\"Training and Validation Loss Over Iterations (For 1B)\")\n",
        "plt.show()"
      ],
      "metadata": {
        "id": "1cSdlFRTVOU3"
      },
      "execution_count": null,
      "outputs": []
    },
    {
      "cell_type": "markdown",
      "source": [
        "Question 2A"
      ],
      "metadata": {
        "id": "BEKtrd-RWN_i"
      }
    },
    {
      "cell_type": "code",
      "source": [
        "#Preprocessing: Normilaztion (0-1) and Standardization (mean removal)\n",
        "HD_train_2A_N, HD_test_2A_N = train_test_split(HD, train_size = 0.8, test_size = 0.2, random_state = 100)\n",
        "HD_train_2A_S, HD_test_2A_S = train_test_split(HD, train_size = 0.8, test_size = 0.2, random_state = 100)"
      ],
      "metadata": {
        "id": "iVRyjGaQZBWu"
      },
      "execution_count": null,
      "outputs": []
    },
    {
      "cell_type": "markdown",
      "source": [
        "Q2A - Normalization"
      ],
      "metadata": {
        "id": "sc1wtzhGfySI"
      }
    },
    {
      "cell_type": "code",
      "source": [
        "#Norming\n",
        "num_vars_2A_N = ['area', 'bedrooms', 'bathrooms', 'stories', 'parking', 'price']\n",
        "HD_train_2A_N[num_vars_2A_N] = scaler.fit_transform(HD_train_2A_N[num_vars_2A_N])\n",
        "HD_train_2A_N.head()"
      ],
      "metadata": {
        "id": "zYJDI5WWWTPD"
      },
      "execution_count": null,
      "outputs": []
    },
    {
      "cell_type": "code",
      "source": [
        "#Delaring Sets & Removing \"extra\" Data\n",
        "#Training Set [Normalizing]\n",
        "y_train_2A_N = HD_train_2A_N.pop('price')\n",
        "x_train_2A_N = HD_train_2A_N\n",
        "print(x_train_2A_N.shape)\n",
        "print(y_train_2A_N.shape)\n",
        "\n",
        "\n",
        "\n",
        "x_train_2A_N.head()"
      ],
      "metadata": {
        "id": "WgrZplGkbuMm"
      },
      "execution_count": null,
      "outputs": []
    },
    {
      "cell_type": "code",
      "source": [
        "#Validation Sets [Normalizing]\n",
        "y_val_2A_N = HD_test_2A_N.pop('price')\n",
        "x_val_2A_N = HD_test_2A_N\n",
        "print(x_val_2A_N.shape)\n",
        "print(y_val_2A_N.shape)\n",
        "\n",
        "\n",
        "\n",
        "x_train_2A_N.head()"
      ],
      "metadata": {
        "id": "VQs4jnFQcob3"
      },
      "execution_count": null,
      "outputs": []
    },
    {
      "cell_type": "code",
      "source": [
        "theta_2A_N =\n",
        "a_2A_N =\n",
        "itr_2A_N ="
      ],
      "metadata": {
        "id": "4VIILPwlhGke"
      },
      "execution_count": null,
      "outputs": []
    },
    {
      "cell_type": "code",
      "source": [
        "#Training and Validation Losses for 2A\n",
        "x_train_2A_N = np.c_[np.ones((len(x_train_2A_N), 1)), x_train_2A_N]\n",
        "x_val_2A_N = np.c_[np.ones((len(x_val_2A_N), 1)), x_val_2A_N]\n",
        "\n",
        "train_losses_2A_N = []\n",
        "val_losses_2A_N = []\n",
        "\n",
        "for iteration in range(itr_2A_N):\n",
        "    gradients_2A_N = 2/m * x_train_2A_N.T.dot(x_train_2A_N.dot(theta_2A_N) - y_train_2A_N)\n",
        "    theta_2A_N -= a_2A_N * gradients_2A_N\n",
        "\n",
        "    train_loss_2A_N = (1/m) * np.sum(np.square(x_train_2A_N.dot(theta_2A_N) - y_train_2A_N))\n",
        "    val_loss_2A_N = (1/len(x_val_2A_N)) * np.sum(np.square(x_val_2A_N.dot(theta_2A_N) - y_val_2A_N))\n",
        "\n",
        "    train_losses_2A_N.append(train_loss_2A_N)\n",
        "    val_losses_2A_N.append(val_loss_2A_N)"
      ],
      "metadata": {
        "id": "UX__695Hf8Cx"
      },
      "execution_count": null,
      "outputs": []
    },
    {
      "cell_type": "code",
      "source": [
        "#Training and validation losses for both training and validation set based on input standardization and input normalization\n",
        "plt.plot(train_losses_2A_N, label=\"Training Loss\")\n",
        "plt.plot(val_losses_2A_N, label=\"Validation Loss\")\n",
        "plt.xlabel(\"Iteration\")\n",
        "plt.ylabel(\"Mean Squared Error\")\n",
        "plt.legend()\n",
        "plt.title(\"Training and Validation Loss Over Iterations (For 2A)\")\n",
        "plt.show()"
      ],
      "metadata": {
        "id": "rRHSSQP0iJz5"
      },
      "execution_count": null,
      "outputs": []
    },
    {
      "cell_type": "markdown",
      "source": [
        "Q2A - Standardization"
      ],
      "metadata": {
        "id": "f_RTaFLKf3P4"
      }
    },
    {
      "cell_type": "code",
      "source": [
        "#Standardizing\n",
        "num_vars_2A_S = ['area', 'bedrooms', 'bathrooms', 'stories', 'parking', 'price']\n",
        "HD_train_2A_S[num_vars_2A_S] = mScaler.fit_transform(HD_train_2A_S[num_vars_2A_S])\n",
        "HD_train_2A_S.head()"
      ],
      "metadata": {
        "id": "Nf4lPGNca0iN"
      },
      "execution_count": null,
      "outputs": []
    },
    {
      "cell_type": "code",
      "source": [
        "#Delaring Sets & Removing \"extra\" Data\n",
        "#Training Set [Standardizing]\n",
        "y_train_2A_S = HD_train_2A_S.pop('price')\n",
        "x_train_2A_S = HD_train_2A_S\n",
        "print(x_train_2A_S.shape)\n",
        "print(y_train_2A_S.shape)\n",
        "\n",
        "\n",
        "\n",
        "x_train_2A_S.head()"
      ],
      "metadata": {
        "id": "2iSsTe9VdHWS"
      },
      "execution_count": null,
      "outputs": []
    },
    {
      "cell_type": "code",
      "source": [
        "#Validation Set [Standardizing]\n",
        "y_val_2A_S = HD_test_2A_S.pop('price')\n",
        "x_val_2A_S = HD_test_2A_S\n",
        "print(x_val_2A_S.shape)\n",
        "print(y_val_2A_S.shape)\n",
        "\n",
        "\n",
        "\n",
        "x_train_2A_S.head()"
      ],
      "metadata": {
        "id": "mH9vRgZydHdi"
      },
      "execution_count": null,
      "outputs": []
    },
    {
      "cell_type": "code",
      "source": [
        "theta_2A_S = []\n",
        "a_2A_S = 100\n",
        "itr_2A_S = 0.1"
      ],
      "metadata": {
        "id": "g1hERcsKi9ZS"
      },
      "execution_count": null,
      "outputs": []
    },
    {
      "cell_type": "code",
      "source": [
        "#Training and Validation Losses for 2A\n",
        "x_train_2A_S = np.c_[np.ones((len(x_train_2A_S), 1)), x_train_2A_S]\n",
        "x_val_2A_S = np.c_[np.ones((len(x_val_2A_S), 1)), x_val_2A_S]\n",
        "\n",
        "train_losses_2A_S = []\n",
        "val_losses_2A_S = []\n",
        "\n",
        "for iteration in range(itr_2A_S):\n",
        "    gradients_2A_S = 2/m * x_train_2A_S.T.dot(x_train_2A_S.dot(theta_2A_S) - y_train_2A_S)\n",
        "    theta_2A_S -= a_2A_S * gradients_2A_S\n",
        "\n",
        "    train_loss_2A_S = (1/m) * np.sum(np.square(x_train_2A_S.dot(theta_2A_S) - y_train_2A_S))\n",
        "    val_loss_2A_S = (1/len(x_val_2A_S)) * np.sum(np.square(x_val_2A_S.dot(theta_2A_S) - y_val_2A_S))\n",
        "\n",
        "    train_losses_2A_S.append(train_loss_2A_S)\n",
        "    val_losses_2A_S.append(val_loss_2A_S)"
      ],
      "metadata": {
        "id": "iXHe8id5i9jZ"
      },
      "execution_count": null,
      "outputs": []
    },
    {
      "cell_type": "code",
      "source": [
        "#Training and validation losses for both training and validation set based on input standardization and input normalization [Stando]\n",
        "plt.plot(train_losses_2A_S, label=\"Training Loss\")\n",
        "plt.plot(val_losses_2A_S, label=\"Validation Loss\")\n",
        "plt.xlabel(\"Iteration\")\n",
        "plt.ylabel(\"Mean Squared Error\")\n",
        "plt.legend()\n",
        "plt.title(\"Training and Validation Loss Over Iterations (For 2A)\")\n",
        "plt.show()"
      ],
      "metadata": {
        "id": "feLGambDi-aT"
      },
      "execution_count": null,
      "outputs": []
    },
    {
      "cell_type": "markdown",
      "source": [
        "Question 2B"
      ],
      "metadata": {
        "id": "qButDwsukpNH"
      }
    },
    {
      "cell_type": "code",
      "source": [
        "HD_train_2B_N, HD_test_2B_N = train_test_split(HD, train_size = 0.8, test_size = 0.2, random_state = 100)\n",
        "HD_train_2B_S, HD_test_2B_S = train_test_split(HD, train_size = 0.8, test_size = 0.2, random_state = 100)"
      ],
      "metadata": {
        "id": "jVkDmgZzkvKQ"
      },
      "execution_count": null,
      "outputs": []
    },
    {
      "cell_type": "markdown",
      "source": [
        "Q2B - Normalization"
      ],
      "metadata": {
        "id": "awwBLegtkwJ4"
      }
    },
    {
      "cell_type": "code",
      "source": [
        "#Norming\n",
        "num_vars_2B_N = ['area', 'bedrooms', 'bathrooms', 'stories', 'parking', 'price']\n",
        "HD_train_2B_N[num_vars_2B_N] = scaler.fit_transform(HD_train_2B_N[num_vars_2B_N])\n",
        "HD_train_2B_N.head()"
      ],
      "metadata": {
        "id": "dkNxa6n3k-qg"
      },
      "execution_count": null,
      "outputs": []
    },
    {
      "cell_type": "code",
      "source": [
        "#Delaring Sets & Removing \"extra\" Data\n",
        "#Training Set [Normalizing]\n",
        "y_train_2B_N = HD_train_2B_N.pop('price')\n",
        "x_train_2B_N = HD_train_2B_N\n",
        "print(x_train_2B_N.shape)\n",
        "print(y_train_2B_N.shape)\n",
        "\n",
        "\n",
        "\n",
        "x_train_2B_N.head()"
      ],
      "metadata": {
        "id": "vWG_nz7HnubK"
      },
      "execution_count": null,
      "outputs": []
    },
    {
      "cell_type": "code",
      "source": [
        "#Validation Sets [Normalizing]\n",
        "y_val_2B_N = HD_test_2B_N.pop('price')\n",
        "x_val_2B_N = HD_test_2B_N\n",
        "print(x_val_2B_N.shape)\n",
        "print(y_val_2B_N.shape)\n",
        "\n",
        "\n",
        "\n",
        "x_train_2B_N.head()"
      ],
      "metadata": {
        "id": "vETFlmBOn4FC"
      },
      "execution_count": null,
      "outputs": []
    },
    {
      "cell_type": "code",
      "source": [
        "theta_2B_N =\n",
        "a_2B_N =\n",
        "itr_2B_N ="
      ],
      "metadata": {
        "id": "qALemqVDoFur"
      },
      "execution_count": null,
      "outputs": []
    },
    {
      "cell_type": "code",
      "source": [
        "#Training and Validation Losses for 2B [Norm]\n",
        "x_train_2B_N = np.c_[np.ones((len(x_train_2B_N), 1)), x_train_2B_N]\n",
        "x_val_2B_N = np.c_[np.ones((len(x_val_2B_N), 1)), x_val_2B_N]\n",
        "\n",
        "train_losses_2B_N = []\n",
        "val_losses_2B_N = []\n",
        "\n",
        "for iteration in range(itr_2B_N):\n",
        "    gradients_2B_N = 2/m * x_train_2B_N.T.dot(x_train_2B_N.dot(theta_2B_N) - y_train_2B_N)\n",
        "    theta_2B_N -= a_2B_N * gradients_2B_N\n",
        "\n",
        "    train_loss_2B_N = (1/m) * np.sum(np.square(x_train_2B_N.dot(theta_2B_N) - y_train_2B_N))\n",
        "    val_loss_2B_N = (1/len(x_val_2B_N)) * np.sum(np.square(x_val_2B_N.dot(theta_2B_N) - y_val_2B_N))\n",
        "\n",
        "    train_losses_2B_N.append(train_loss_2B_N)\n",
        "    val_losses_2B_N.append(val_loss_2B_N)"
      ],
      "metadata": {
        "id": "M7Q1zeEioGcL"
      },
      "execution_count": null,
      "outputs": []
    },
    {
      "cell_type": "code",
      "source": [
        "plt.plot(train_losses_2B_N, label=\"Training Loss\")\n",
        "plt.plot(val_losses_2B_N, label=\"Validation Loss\")\n",
        "plt.xlabel(\"Iteration\")\n",
        "plt.ylabel(\"Mean Squared Error\")\n",
        "plt.legend()\n",
        "plt.title(\"Training and Validation Loss Over Iterations (For 1B)\")\n",
        "plt.show()"
      ],
      "metadata": {
        "id": "tkywIvH4ooXT"
      },
      "execution_count": null,
      "outputs": []
    },
    {
      "cell_type": "markdown",
      "source": [
        "Q2B - Standardization"
      ],
      "metadata": {
        "id": "Yv1siugXosv8"
      }
    },
    {
      "cell_type": "code",
      "source": [
        "#Stando\n",
        "num_vars_2B_S = ['area', 'bedrooms', 'bathrooms', 'stories', 'parking', 'price']\n",
        "HD_train_2B_S[num_vars_2B_N] = scaler.fit_transform(HD_train_2B_S[num_vars_2B_S])\n",
        "HD_train_2B_S.head()"
      ],
      "metadata": {
        "id": "5nH6OpHOoxfE"
      },
      "execution_count": null,
      "outputs": []
    },
    {
      "cell_type": "code",
      "source": [
        "#Delaring Sets & Removing \"extra\" Data\n",
        "#Training Set [Stando]\n",
        "y_train_2B_S = HD_train_2B_S.pop('price')\n",
        "x_train_2B_S = HD_train_2B_S\n",
        "print(x_train_2B_S.shape)\n",
        "print(y_train_2B_S.shape)\n",
        "\n",
        "\n",
        "\n",
        "x_train_2B_S.head()"
      ],
      "metadata": {
        "id": "rlh-Dh9wo-Vi"
      },
      "execution_count": null,
      "outputs": []
    },
    {
      "cell_type": "code",
      "source": [
        "#Validation Sets [Stando]\n",
        "y_val_2B_S = HD_test_2B_S.pop('price')\n",
        "x_val_2B_S = HD_test_2B_S\n",
        "print(x_val_2B_S.shape)\n",
        "print(y_val_2B_S.shape)\n",
        "\n",
        "\n",
        "\n",
        "x_train_2B_S.head()"
      ],
      "metadata": {
        "id": "h-IiPO68pii0"
      },
      "execution_count": null,
      "outputs": []
    },
    {
      "cell_type": "code",
      "source": [
        "theta_2B_S =\n",
        "a_2B_S =\n",
        "itr_2B_S ="
      ],
      "metadata": {
        "id": "ZBJ3T0xRpvXl"
      },
      "execution_count": null,
      "outputs": []
    },
    {
      "cell_type": "code",
      "source": [
        "#Training and Validation Losses for 2B [Stando]\n",
        "x_train_2B_S = np.c_[np.ones((len(x_train_2B_S), 1)), x_train_2B_S]\n",
        "x_val_2B_S = np.c_[np.ones((len(x_val_2B_S), 1)), x_val_2B_S]\n",
        "\n",
        "train_losses_2B_S = []\n",
        "val_losses_2B_S = []\n",
        "\n",
        "for iteration in range(itr_2B_S):\n",
        "    gradients_2B_S = 2/m * x_train_2B_S.T.dot(x_train_2S_N.dot(theta_2B_S) - y_train_2B_S)\n",
        "    theta_2B_S -= a_2B_S * gradients_2B_S\n",
        "\n",
        "    train_loss_2B_S = (1/m) * np.sum(np.square(x_train_2B_S.dot(theta_2B_S) - y_train_2B_S))\n",
        "    val_loss_2B_S = (1/len(x_val_2B_S)) * np.sum(np.square(x_val_2B_S.dot(theta_2B_S) - y_val_2B_S))\n",
        "\n",
        "    train_losses_2B_S.append(train_loss_2B_S)\n",
        "    val_losses_2B_S.append(val_loss_2B_S)"
      ],
      "metadata": {
        "id": "0Sl2YgvQp1_S"
      },
      "execution_count": null,
      "outputs": []
    },
    {
      "cell_type": "code",
      "source": [
        "plt.plot(train_losses_2B_S, label=\"Training Loss\")\n",
        "plt.plot(val_losses_2B_S, label=\"Validation Loss\")\n",
        "plt.xlabel(\"Iteration\")\n",
        "plt.ylabel(\"Mean Squared Error\")\n",
        "plt.legend()\n",
        "plt.title(\"Training and Validation Loss Over Iterations (For 1B)\")\n",
        "plt.show()"
      ],
      "metadata": {
        "id": "PGzosK_-qgh1"
      },
      "execution_count": null,
      "outputs": []
    },
    {
      "cell_type": "markdown",
      "source": [
        "Question 3A"
      ],
      "metadata": {
        "id": "C-byhUaPqxu4"
      }
    },
    {
      "cell_type": "code",
      "source": [
        "#"
      ],
      "metadata": {
        "id": "sdtmQQMQqzl7"
      },
      "execution_count": null,
      "outputs": []
    }
  ],
  "metadata": {
    "colab": {
      "provenance": [],
      "authorship_tag": "ABX9TyM/5L/BD95yuhbCDuKw43Hm",
      "include_colab_link": true
    },
    "kernelspec": {
      "display_name": "Python 3",
      "name": "python3"
    },
    "language_info": {
      "name": "python"
    }
  },
  "nbformat": 4,
  "nbformat_minor": 0
}