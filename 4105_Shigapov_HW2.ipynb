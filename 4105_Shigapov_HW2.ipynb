{
  "cells": [
    {
      "cell_type": "markdown",
      "metadata": {
        "id": "view-in-github",
        "colab_type": "text"
      },
      "source": [
        "<a href=\"https://colab.research.google.com/github/TreeLiquid/Intro-to-ML/blob/main/4105_Shigapov_HW2.ipynb\" target=\"_parent\"><img src=\"https://colab.research.google.com/assets/colab-badge.svg\" alt=\"Open In Colab\"/></a>"
      ]
    },
    {
      "cell_type": "code",
      "execution_count": null,
      "metadata": {
        "id": "dp9mhzq_1FbP"
      },
      "outputs": [],
      "source": [
        "import pandas as pd\n",
        "import numpy as np\n",
        "import matplotlib.pyplot as plt"
      ]
    },
    {
      "cell_type": "markdown",
      "source": [
        "Pre-Processing"
      ],
      "metadata": {
        "id": "er189TEZh2e2"
      }
    },
    {
      "cell_type": "code",
      "execution_count": null,
      "metadata": {
        "id": "aOP0OGaVy9hc"
      },
      "outputs": [],
      "source": [
        "from google.colab import drive\n",
        "drive.mount('/content/drive')\n",
        "\n",
        "#Obtain file data\n",
        "filepath = '/content/drive/My Drive/Fall-2023/Intro-to-ML/Datasets/Housing.csv'\n",
        "HD = pd.DataFrame(pd.read_csv(filepath))\n",
        "HD.head()"
      ]
    },
    {
      "cell_type": "code",
      "source": [
        "HD.shape"
      ],
      "metadata": {
        "id": "yev9cH9XXuML"
      },
      "execution_count": null,
      "outputs": []
    },
    {
      "cell_type": "code",
      "source": [
        "#Null Checking\n",
        "HD.isnull().sum()*100/HD.shape[0]"
      ],
      "metadata": {
        "id": "Yie9xuWgZAQl"
      },
      "execution_count": null,
      "outputs": []
    },
    {
      "cell_type": "code",
      "source": [
        "#Converting True/False to 1/0\n",
        "varlist = ['mainroad', 'guestroom', 'basement', 'hotwaterheating', 'airconditioning', 'prefarea']\n",
        "\n",
        "#Map Func (I am not converting furnishing status as the HW doesn't require me to)\n",
        "def binary_map(x):\n",
        "  return x.map({'yes': 1, 'no': 0})\n",
        "\n",
        "HD[varlist] = HD[varlist].apply(binary_map)\n",
        "HD.head()"
      ],
      "metadata": {
        "id": "WGjALIHhX-fD"
      },
      "execution_count": null,
      "outputs": []
    },
    {
      "cell_type": "code",
      "source": [
        "#Training & Test Set Setup + Feature scaling\n",
        "from sklearn.model_selection import train_test_split\n",
        "from sklearn.preprocessing import MinMaxScaler\n",
        "\n",
        "np.random.seed(0)\n",
        "HD_train, HD_test = train_test_split(HD, train_size = 0.8, test_size = 0.2, random_state = 100)\n",
        "\n",
        "scaler = MinMaxScaler()\n",
        "num_vars = ['price', 'area', 'bedrooms', 'bathrooms', 'stories', 'parking']\n",
        "HD_train[num_vars] = scaler.fit_transform(HD_train[num_vars])\n",
        "HD_train.head()"
      ],
      "metadata": {
        "id": "qCIvUbCUZ79M"
      },
      "execution_count": null,
      "outputs": []
    },
    {
      "cell_type": "code",
      "source": [
        "#Removal of Price Column\n",
        "y_train = HD_train.pop('price')\n",
        "x_train = HD_train\n",
        "x_train.head()"
      ],
      "metadata": {
        "id": "pG8meDK8fSBE"
      },
      "execution_count": null,
      "outputs": []
    },
    {
      "cell_type": "code",
      "execution_count": null,
      "metadata": {
        "id": "gKzrkICV2pcd"
      },
      "outputs": [],
      "source": [
        "#Functions\n",
        "def compute_price(x, y, theta): #Adjusted function name to fit HW requirements better :)\n",
        " \"\"\"\n",
        " Compute price for linear regression.\n",
        " Input Parameters\n",
        " ----------------\n",
        " X : 2D array where each row represent the training example and each column represent\n",
        " m= number of training examples\n",
        " n= number of features (including X_0 column of ones)\n",
        " y : 1D array of labels/target value for each traing example. dimension(1 x m)\n",
        " theta : 1D array of fitting parameters or weights. Dimension (1 x n)\n",
        "\n",
        " Output Parameters\n",
        " -----------------\n",
        " J : Scalar value.\n",
        " \"\"\"\n",
        " predictions = x.dot(theta)\n",
        " errors = np.subtract(predictions, y)\n",
        " sqrErrors = np.square(errors)\n",
        " J = 1 / (2 * m) * np.sum(sqrErrors)\n",
        " return J\n",
        "\n",
        "def gradient_descent(x, y, theta, alpha, iterations):\n",
        "    \"\"\"\n",
        "    Compute cost for linear regression.\n",
        "\n",
        "    Input Parameters\n",
        "    ----------------\n",
        "    X : 2D array where each row represent the training example and each column represent\n",
        "    m= number of training examples\n",
        "    n= number of features (including X_0 column of ones)\n",
        "    y : 1D array of labels/target value for each traing example. dimension(m x 1)\n",
        "    theta : 1D array of fitting parameters or weights. Dimension (1 x n)\n",
        "    alpha : Learning rate. Scalar value\n",
        "    iterations: No of iterations. Scalar value.\n",
        "\n",
        "    Output Parameters\n",
        "    -----------------\n",
        "    theta : Final Value. 1D array of fitting parameters or weights. Dimension (1 x n)\n",
        "    cost_history: Conatins value of cost for each iteration. 1D array. Dimansion(m x 1)\n",
        "    \"\"\"\n",
        "    cost_history = np.zeros(iterations)\n",
        "    for i in range(iterations):\n",
        "        predictions = x.dot(theta)\n",
        "        errors = np.subtract(predictions, y)\n",
        "        sum_delta = (alpha / m) * x.transpose().dot(errors);\n",
        "        theta = theta - sum_delta;\n",
        "        cost_history[i] = compute_price(x, y, theta)\n",
        "    return theta, cost_history"
      ]
    },
    {
      "cell_type": "markdown",
      "source": [
        "Problem 1A"
      ],
      "metadata": {
        "id": "DRwDzvmehoU1"
      }
    },
    {
      "cell_type": "code",
      "source": [
        "#Parameters\n",
        "m = len(y_train)\n",
        "print('M =', m)\n",
        "\n"
      ],
      "metadata": {
        "id": "SZOQvg6Ohn3U"
      },
      "execution_count": null,
      "outputs": []
    },
    {
      "cell_type": "code",
      "execution_count": null,
      "metadata": {
        "id": "eD-Sgiee30lz"
      },
      "outputs": [],
      "source": [
        "#Price\n",
        "y = HD.values[:, 0]\n",
        "area = HD.values[:, 1]\n",
        "beds = HD.values[:, 2]\n",
        "baths = HD.values[:, 3]\n",
        "stories = HD.values[:,4]\n",
        "park = HD.values[:, 10]\n",
        "\n",
        "A = [HD.values[:, 1],HD.values[:, 2],HD.values[:, 3],HD.values[:, 4], HD.values[:, 10]]\n",
        "\n",
        "#Verification\n",
        "print('price = ', y[: 5])\n",
        "print('area = ', area[: 5])\n",
        "print('bedrooms = ', beds[: 5])\n",
        "print('bathrooms = ', baths[: 5])\n",
        "print('stories = ', stories[: 5])\n",
        "print('Parking Spaces = ', park[: 5])\n",
        "print('M =', m)\n",
        "\n",
        "print('A = ', A[: 5])\n"
      ]
    },
    {
      "cell_type": "code",
      "source": [],
      "metadata": {
        "id": "SrU0AtuQUhOc"
      },
      "execution_count": null,
      "outputs": []
    }
  ],
  "metadata": {
    "colab": {
      "provenance": [],
      "authorship_tag": "ABX9TyMvZ4UF0mrZCGVtpJthNKzz",
      "include_colab_link": true
    },
    "kernelspec": {
      "display_name": "Python 3",
      "name": "python3"
    },
    "language_info": {
      "name": "python"
    }
  },
  "nbformat": 4,
  "nbformat_minor": 0
}