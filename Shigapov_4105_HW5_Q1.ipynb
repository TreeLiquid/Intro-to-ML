{
  "nbformat": 4,
  "nbformat_minor": 0,
  "metadata": {
    "colab": {
      "provenance": [],
      "authorship_tag": "ABX9TyNmCeQwwMPPxv2xr1a6gBZQ",
      "include_colab_link": true
    },
    "kernelspec": {
      "name": "python3",
      "display_name": "Python 3"
    },
    "language_info": {
      "name": "python"
    }
  },
  "cells": [
    {
      "cell_type": "markdown",
      "metadata": {
        "id": "view-in-github",
        "colab_type": "text"
      },
      "source": [
        "<a href=\"https://colab.research.google.com/github/TreeLiquid/Intro-to-ML/blob/main/Shigapov_4105_HW5_Q1.ipynb\" target=\"_parent\"><img src=\"https://colab.research.google.com/assets/colab-badge.svg\" alt=\"Open In Colab\"/></a>"
      ]
    },
    {
      "cell_type": "code",
      "execution_count": null,
      "metadata": {
        "id": "3_IJeMBRpBZS"
      },
      "outputs": [],
      "source": [
        "#Libraries\n",
        "import numpy as np\n",
        "import pandas as pd\n",
        "import matplotlib.pyplot as plt\n",
        "from sklearn.linear_model import LogisticRegression\n",
        "from sklearn.metrics import confusion_matrix\n",
        "from sklearn.model_selection import train_test_split\n",
        "from sklearn.preprocessing import StandardScaler\n",
        "from sklearn import metrics\n",
        "from sklearn import datasets\n",
        "from sklearn.naive_bayes import GaussianNB\n",
        "from sklearn.decomposition import PCA\n",
        "from sklearn.svm import SVC\n",
        "import seaborn as sea\n",
        "from matplotlib.colors import ListedColormap\n",
        "import torch\n",
        "import tensorflow\n",
        "import torch.nn as nn\n",
        "import torch.optim as optim"
      ]
    },
    {
      "cell_type": "code",
      "source": [
        "#Preprocessing"
      ],
      "metadata": {
        "id": "wy7hnYXxpZ_u"
      },
      "execution_count": null,
      "outputs": []
    },
    {
      "cell_type": "markdown",
      "source": [
        "Question 1"
      ],
      "metadata": {
        "id": "eQeL24_KpcBT"
      }
    },
    {
      "cell_type": "code",
      "source": [
        "#Tensors and Params\n",
        "t_c = torch.tensor([0.5, 14.0, 15.0, 28.0, 11.0, 8.0, 3.0, -4.0, 6.0, 13.0, 21.0])\n",
        "t_u = torch.tensor([35.7, 55.9, 58.2, 81.9, 56.3, 48.9, 33.9, 21.8, 48.4, 60.4, 68.4])\n",
        "t_un = 0.01 * t_u\n",
        "\n",
        "params = torch.tensor([1.0,1.0,0.0], requires_grad= True)"
      ],
      "metadata": {
        "id": "EaX8N5VVpdf0"
      },
      "execution_count": null,
      "outputs": []
    },
    {
      "cell_type": "code",
      "source": [
        "#Models (Linear, Non-Linear, Loss)\n",
        "def linear(t_u, w, b):\n",
        "  return w * t_u + b\n",
        "\n",
        "def nonlinear(t_u, w2, w1, b):\n",
        "  return w2 * t_u**2 + w1 * t_u + b\n",
        "\n",
        "def lossfn(t_p, t_c):\n",
        "  sqdiff = ((t_p - t_c)**2)\n",
        "  return sqdiff.mean()"
      ],
      "metadata": {
        "id": "LuXTyotOC-Vk"
      },
      "execution_count": null,
      "outputs": []
    },
    {
      "cell_type": "code",
      "source": [
        "#Non-Linear Model Depolyment\n",
        "w1 = torch.ones(())\n",
        "w2 = torch.ones(())\n",
        "b = torch.zeros(())\n",
        "\n",
        "t_p = nonlinear(t_u, w2, w1, b)\n",
        "print(t_p)\n",
        "\n",
        "#Loss\n",
        "loss = lossfn(t_p, t_c)\n",
        "print(\"Loss = \", loss)"
      ],
      "metadata": {
        "colab": {
          "base_uri": "https://localhost:8080/"
        },
        "id": "aL8JiqegFB3D",
        "outputId": "483044c8-5f4d-49de-ae81-f808d541db8f"
      },
      "execution_count": null,
      "outputs": [
        {
          "output_type": "stream",
          "name": "stdout",
          "text": [
            "tensor([1310.1901, 3180.7100, 3445.4399, 6789.5103, 3225.9900, 2440.1101,\n",
            "        1183.1101,  497.0399, 2390.9600, 3708.5601, 4746.9600])\n",
            "Loss =  tensor(11709471.)\n"
          ]
        }
      ]
    },
    {
      "cell_type": "code",
      "source": [
        "#Linear Training Loop (LTL)\n",
        "def LTL(n_epochs, optimizer, params, t_u, t_c):\n",
        "  print(f'Learning Rate: {a}')\n",
        "  for epoch in range(1, n_epochs+1):\n",
        "    t_p = linear(t_u, *params)\n",
        "    loss = lossfn(t_p, t_c)\n",
        "\n",
        "    optimizer.zero_grad()\n",
        "    loss.backward()\n",
        "    optimizer.step()\n",
        "\n",
        "    if epoch % 500 == 0:\n",
        "      print ('Epoch %d, Loss %f' % (epoch, float(loss)))\n",
        "  return params, loss"
      ],
      "metadata": {
        "id": "kDBYEY1lNmtm"
      },
      "execution_count": null,
      "outputs": []
    },
    {
      "cell_type": "code",
      "source": [
        "#NonLinear Training Loop (NLTL)\n",
        "def NLTL(n_epochs, params, t_u, t_c, a):\n",
        "  print(f'Learning Rate: {a}')\n",
        "  for epoch in range(1, n_epochs+1):\n",
        "    w1, w2, b = params\n",
        "    t_p = nonlinear(t_u, w1, w2, b)\n",
        "    loss = lossfn(t_p, t_c)\n",
        "\n",
        "    optimizer.zero_grad()\n",
        "    loss.backward()\n",
        "    optimizer.step()\n",
        "\n",
        "    if epoch % 500 == 0:\n",
        "      print ('Epoch %d, Loss %f' % (epoch, float(loss)))\n",
        "  return params, loss"
      ],
      "metadata": {
        "id": "q_wD2bxnMloC"
      },
      "execution_count": null,
      "outputs": []
    },
    {
      "cell_type": "code",
      "source": [
        "#Learning Rates [a]\n",
        "a = [0.1, 0.01, 0.001, 0.0001]\n",
        "\n",
        "#ADAM Optimizer\n",
        "#optA1 = optim.Adam([params], lr= i)\n",
        "\n",
        "#Parameters\n",
        "train_params = torch.zeros(len(a), 3)\n",
        "train_loss = torch.zeros(len(a), 1)\n",
        "linTrain_params = (1,2)\n",
        "linTrain_loss = torch.zeros(1,1)"
      ],
      "metadata": {
        "id": "FctoABwDOkFV"
      },
      "execution_count": null,
      "outputs": []
    },
    {
      "cell_type": "code",
      "source": [
        "#SGD Loop\n",
        "print(\"Nonlinear SGD Training\")\n",
        "for i in a:\n",
        "  params = torch.tensor([1.0, 1.0, 0.0], requires_grad=True)\n",
        "  optimizer = optim.SGD([params], lr= i)\n",
        "  print(f'\\n')\n",
        "  train_params[a.index(i)], train_loss[a.index(i)] = NLTL(\n",
        "      n_epochs= 5000,\n",
        "      params= params,\n",
        "      t_u= t_un,\n",
        "      t_c= t_c,\n",
        "      a= i\n",
        "  )"
      ],
      "metadata": {
        "colab": {
          "base_uri": "https://localhost:8080/"
        },
        "id": "99jPHzNqRNpf",
        "outputId": "f58810fd-3475-47d5-bbd8-f57ad047adfd"
      },
      "execution_count": null,
      "outputs": [
        {
          "output_type": "stream",
          "name": "stdout",
          "text": [
            "Nonlinear SGD Training\n",
            "\n",
            "\n",
            "Learning Rate: 0.1\n",
            "Epoch 500, Loss 2.108456\n",
            "Epoch 1000, Loss 2.090728\n",
            "Epoch 1500, Loss 2.090720\n",
            "Epoch 2000, Loss 2.090720\n",
            "Epoch 2500, Loss 2.090721\n",
            "Epoch 3000, Loss 2.090719\n",
            "Epoch 3500, Loss 2.090720\n",
            "Epoch 4000, Loss 2.090720\n",
            "Epoch 4500, Loss 2.090720\n",
            "Epoch 5000, Loss 2.090720\n",
            "\n",
            "\n",
            "Learning Rate: 0.01\n",
            "Epoch 500, Loss 26.266186\n",
            "Epoch 1000, Loss 12.949670\n",
            "Epoch 1500, Loss 6.968258\n",
            "Epoch 2000, Loss 4.281574\n",
            "Epoch 2500, Loss 3.074787\n",
            "Epoch 3000, Loss 2.532740\n",
            "Epoch 3500, Loss 2.289264\n",
            "Epoch 4000, Loss 2.179901\n",
            "Epoch 4500, Loss 2.130778\n",
            "Epoch 5000, Loss 2.108713\n",
            "\n",
            "\n",
            "Learning Rate: 0.001\n",
            "Epoch 500, Loss 58.822189\n",
            "Epoch 1000, Loss 48.348232\n",
            "Epoch 1500, Loss 44.396774\n",
            "Epoch 2000, Loss 41.118404\n",
            "Epoch 2500, Loss 38.115955\n",
            "Epoch 3000, Loss 35.345898\n",
            "Epoch 3500, Loss 32.788918\n",
            "Epoch 4000, Loss 30.428556\n",
            "Epoch 4500, Loss 28.249678\n",
            "Epoch 5000, Loss 26.238340\n",
            "\n",
            "\n",
            "Learning Rate: 0.0001\n",
            "Epoch 500, Loss 138.825058\n",
            "Epoch 1000, Loss 118.428955\n",
            "Epoch 1500, Loss 102.817139\n",
            "Epoch 2000, Loss 90.845161\n",
            "Epoch 2500, Loss 81.642403\n",
            "Epoch 3000, Loss 74.546761\n",
            "Epoch 3500, Loss 69.054512\n",
            "Epoch 4000, Loss 64.782639\n",
            "Epoch 4500, Loss 61.439720\n",
            "Epoch 5000, Loss 58.804115\n"
          ]
        }
      ]
    },
    {
      "cell_type": "code",
      "source": [
        "print(train_params)"
      ],
      "metadata": {
        "colab": {
          "base_uri": "https://localhost:8080/"
        },
        "id": "qfLsKm9mcnDJ",
        "outputId": "3a72bc99-8864-4329-806d-f68a105763b8"
      },
      "execution_count": null,
      "outputs": [
        {
          "output_type": "stream",
          "name": "stdout",
          "text": [
            "tensor([[ 28.3420,  24.7210, -10.6403],\n",
            "        [ 27.9050,  24.3412, -10.3017],\n",
            "        [ 11.6079,  11.5393,   1.5983],\n",
            "        [  3.7440,   4.8014,   4.9612]], grad_fn=<CopySlices>)\n"
          ]
        }
      ]
    },
    {
      "cell_type": "code",
      "source": [
        "#ADAM Loop\n",
        "print(\"Nonlinear ADAM Training\")\n",
        "for i in a:\n",
        "  params = torch.tensor([1.0, 1.0, 0.0], requires_grad=True)\n",
        "  optimizer = optim.Adam([params], lr= i)\n",
        "  print(f'\\n')\n",
        "  train_params[a.index(i)], train_loss[a.index(i)] = NLTL(\n",
        "      n_epochs= 5000,\n",
        "      params= params,\n",
        "      t_u= t_un,\n",
        "      t_c= t_c,\n",
        "      a= i\n",
        "  )"
      ],
      "metadata": {
        "colab": {
          "base_uri": "https://localhost:8080/"
        },
        "id": "HXm-B-4oV8US",
        "outputId": "0fc78f1c-840f-483f-8143-cd3e662c18fd"
      },
      "execution_count": null,
      "outputs": [
        {
          "output_type": "stream",
          "name": "stdout",
          "text": [
            "Nonlinear ADAM Training\n",
            "\n",
            "\n",
            "Learning Rate: 0.1\n",
            "Epoch 500, Loss 7.720606\n",
            "Epoch 1000, Loss 2.183957\n",
            "Epoch 1500, Loss 2.105043\n",
            "Epoch 2000, Loss 2.103428\n",
            "Epoch 2500, Loss 2.101665\n",
            "Epoch 3000, Loss 2.099716\n",
            "Epoch 3500, Loss 2.097688\n",
            "Epoch 4000, Loss 2.095724\n",
            "Epoch 4500, Loss 2.093984\n",
            "Epoch 5000, Loss 2.092600\n",
            "\n",
            "\n",
            "Learning Rate: 0.01\n",
            "Epoch 500, Loss 57.949375\n",
            "Epoch 1000, Loss 40.551365\n",
            "Epoch 1500, Loss 33.974369\n",
            "Epoch 2000, Loss 27.274963\n",
            "Epoch 2500, Loss 20.752810\n",
            "Epoch 3000, Loss 14.940594\n",
            "Epoch 3500, Loss 10.199280\n",
            "Epoch 4000, Loss 6.687758\n",
            "Epoch 4500, Loss 4.367293\n",
            "Epoch 5000, Loss 3.038020\n",
            "\n",
            "\n",
            "Learning Rate: 0.001\n",
            "Epoch 500, Loss 146.404602\n",
            "Epoch 1000, Loss 129.578949\n",
            "Epoch 1500, Loss 114.772308\n",
            "Epoch 2000, Loss 101.786652\n",
            "Epoch 2500, Loss 90.459236\n",
            "Epoch 3000, Loss 80.654350\n",
            "Epoch 3500, Loss 72.255226\n",
            "Epoch 4000, Loss 65.156609\n",
            "Epoch 4500, Loss 59.257385\n",
            "Epoch 5000, Loss 54.453419\n",
            "\n",
            "\n",
            "Learning Rate: 0.0001\n",
            "Epoch 500, Loss 163.438293\n",
            "Epoch 1000, Loss 161.446915\n",
            "Epoch 1500, Loss 159.478012\n",
            "Epoch 2000, Loss 157.530380\n",
            "Epoch 2500, Loss 155.602768\n",
            "Epoch 3000, Loss 153.694489\n",
            "Epoch 3500, Loss 151.804749\n",
            "Epoch 4000, Loss 149.932922\n",
            "Epoch 4500, Loss 148.078751\n",
            "Epoch 5000, Loss 146.241913\n"
          ]
        }
      ]
    },
    {
      "cell_type": "code",
      "source": [
        "#Linear Model\n",
        "linParams = torch.tensor([1.0, 0.0], requires_grad=True)\n",
        "a = 0.1\n",
        "optimizer = optim.Adam([linParams], lr= a)\n",
        "linTrain_params, linTrain_loss = LTL(\n",
        "    n_epochs= 5000,\n",
        "    optimizer= optimizer,\n",
        "    params= linParams,\n",
        "    t_u= t_un,\n",
        "    t_c= t_c\n",
        "  )"
      ],
      "metadata": {
        "colab": {
          "base_uri": "https://localhost:8080/"
        },
        "id": "ADeJUEU3W7yQ",
        "outputId": "40f2628d-49ea-4ed0-fbf1-f64a17316169"
      },
      "execution_count": null,
      "outputs": [
        {
          "output_type": "stream",
          "name": "stdout",
          "text": [
            "Learning Rate: 0.1\n",
            "Epoch 500, Loss 28.605974\n",
            "Epoch 1000, Loss 8.407223\n",
            "Epoch 1500, Loss 3.493775\n",
            "Epoch 2000, Loss 2.951920\n",
            "Epoch 2500, Loss 2.927988\n",
            "Epoch 3000, Loss 2.927646\n",
            "Epoch 3500, Loss 2.927642\n",
            "Epoch 4000, Loss 2.927643\n",
            "Epoch 4500, Loss 2.927643\n",
            "Epoch 5000, Loss 2.927644\n"
          ]
        }
      ]
    },
    {
      "cell_type": "code",
      "source": [
        "#Getting the best\n",
        "print(train_params)\n",
        "\n",
        "bestParams = train_params[0]\n",
        "NL_tp = nonlinear(t_un, *bestParams)\n",
        "lin_tp = linear(t_un, *linParams)"
      ],
      "metadata": {
        "colab": {
          "base_uri": "https://localhost:8080/"
        },
        "id": "l7EbLWsXZuRS",
        "outputId": "c7c36357-6b15-4e4f-b8ed-2dbc4d45a066"
      },
      "execution_count": null,
      "outputs": [
        {
          "output_type": "stream",
          "name": "stdout",
          "text": [
            "tensor([[ 29.6354,  23.3667, -10.3189],\n",
            "        [ 27.2414,  19.8351,  -7.6692],\n",
            "        [  5.4165,   5.2978,   4.0355],\n",
            "        [  1.4952,   1.4946,   0.4935]], grad_fn=<CopySlices>)\n"
          ]
        }
      ]
    },
    {
      "cell_type": "code",
      "source": [
        "\n",
        "print(NL_tp)"
      ],
      "metadata": {
        "colab": {
          "base_uri": "https://localhost:8080/"
        },
        "id": "nkaLZQWYgy3I",
        "outputId": "b005479a-b0ab-4fcf-ceb1-5a963dbf34bf"
      },
      "execution_count": null,
      "outputs": [
        {
          "output_type": "stream",
          "name": "stdout",
          "text": [
            "tensor([ 1.8000, 12.0036, 13.3188, 28.6967, 12.2301,  8.1939,  1.0082, -3.8165,\n",
            "         7.9329, 14.6061, 19.5290], grad_fn=<AddBackward0>)\n"
          ]
        }
      ]
    },
    {
      "cell_type": "code",
      "source": [
        "#Plot the Original Data\n",
        "plt.scatter(t_u, t_c, label = \"Original Data\")\n",
        "\n",
        "#Plot the linear model\n",
        "plt.plot(t_u, lin_tp.detach().numpy(), label= 'Linear Model')\n",
        "\n",
        "#Plot the nonlinear model\n",
        "plt.plot(t_u, NL_tp.detach().numpy(), label= 'NonLinear Model')\n",
        "plt.legend()\n",
        "plt.title(\"Comparison Graph\")"
      ],
      "metadata": {
        "colab": {
          "base_uri": "https://localhost:8080/",
          "height": 470
        },
        "id": "NlfLwuOibr2j",
        "outputId": "40d480a9-f7be-4f92-c2c0-ecf0a86f6616"
      },
      "execution_count": null,
      "outputs": [
        {
          "output_type": "execute_result",
          "data": {
            "text/plain": [
              "Text(0.5, 1.0, 'Comparison Graph')"
            ]
          },
          "metadata": {},
          "execution_count": 174
        },
        {
          "output_type": "display_data",
          "data": {
            "text/plain": [
              "<Figure size 640x480 with 1 Axes>"
            ],
            "image/png": "[encoded data removed]"
          },
          "metadata": {}
        }
      ]
    }
  ]
}